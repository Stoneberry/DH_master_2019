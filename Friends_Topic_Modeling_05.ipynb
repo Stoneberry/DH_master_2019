{
 "cells": [
  {
   "cell_type": "markdown",
   "metadata": {},
   "source": [
    "# Friends\n",
    "Я решила взять сценарии всех сезонов сериала Друзья."
   ]
  },
  {
   "cell_type": "code",
   "execution_count": 1,
   "metadata": {},
   "outputs": [],
   "source": [
    "from sklearn.feature_extraction.text import CountVectorizer, TfidfVectorizer\n",
    "from nltk import sent_tokenize, word_tokenize, pos_tag\n",
    "from collections import defaultdict, Counter\n",
    "from nltk.stem import WordNetLemmatizer\n",
    "from string import punctuation, digits\n",
    "from nltk.corpus import stopwords\n",
    "from bs4 import BeautifulSoup\n",
    "from nltk.util import ngrams\n",
    "import pandas as pd\n",
    "import requests\n",
    "import gensim\n",
    "import re\n",
    "\n",
    "  \n",
    "lemmatizer = WordNetLemmatizer() \n",
    "punct = punctuation+'«»—…“”*№–'+digits\n",
    "stops = set(stopwords.words('english'))"
   ]
  },
  {
   "cell_type": "code",
   "execution_count": 2,
   "metadata": {},
   "outputs": [],
   "source": [
    "def word_check(sent):\n",
    "    words = []\n",
    "    for index, word in enumerate(word_tokenize(sent.lower())):\n",
    "        word = word.strip(punct)\n",
    "        word = lemmatizer.lemmatize(word)\n",
    "        if word.isalpha() and word not in stops and len(word) > 2: \n",
    "            words.append(word)\n",
    "    return words\n",
    "\n",
    "def normalize(text, word_check):\n",
    "    words = []\n",
    "    text = re.sub(' ', ' ', text)\n",
    "    text = re.sub('\\(.+?\\)', '', text)\n",
    "    text = re.sub('^(.+?): ', '', text)\n",
    "    \n",
    "    for sent in sent_tokenize(text):\n",
    "        sent = word_check(sent)\n",
    "        words += sent\n",
    "    return words\n",
    "\n",
    "def parse_episode(soup, cast_lines, cast, normalize, word_check):\n",
    "    episode = []\n",
    "    \n",
    "    for index, line in enumerate(soup.find_all('p')):\n",
    "\n",
    "        if index > 0:\n",
    "            \n",
    "            person = line.find_all('b')\n",
    "            if not person: person = line.find_all('strong')\n",
    "            lines = normalize(line.text, word_check)\n",
    "            \n",
    "            if person:\n",
    "                person = normalize(person[0].text, word_check)\n",
    "                if person and person[0] in cast:\n",
    "                    cast_lines[person[0]][-1] += 1\n",
    "                    \n",
    "            episode += lines\n",
    "    return episode, cast_lines"
   ]
  },
  {
   "cell_type": "code",
   "execution_count": 18,
   "metadata": {},
   "outputs": [],
   "source": [
    "with open('interjections.txt', 'r', encoding = 'utf-8') as f:\n",
    "    interjections = f.read()\n",
    "    interjections = interjections.split('\\n')\n",
    "\n",
    "stops |= set(interjections)"
   ]
  },
  {
   "cell_type": "markdown",
   "metadata": {},
   "source": [
    "# Скачиваем данные"
   ]
  },
  {
   "cell_type": "code",
   "execution_count": 4,
   "metadata": {},
   "outputs": [],
   "source": [
    "import os"
   ]
  },
  {
   "cell_type": "code",
   "execution_count": null,
   "metadata": {},
   "outputs": [],
   "source": [
    "parent_dir = 'friends/'\n",
    "main_url = 'https://fangj.github.io/friends/'\n",
    "main = get_soup(main_url)"
   ]
  },
  {
   "cell_type": "code",
   "execution_count": 25,
   "metadata": {},
   "outputs": [],
   "source": [
    "for link in main.find_all('a'):\n",
    "    ep, name = link.text.split(' ', 1)\n",
    "    \n",
    "    if len(ep) == 4: season = ep[:2]\n",
    "    else: season = ep[0]\n",
    "\n",
    "    path = os.path.join(parent_dir, season) \n",
    "    if not os.path.isdir(path):\n",
    "        os.mkdir(path) \n",
    "    \n",
    "    url = main_url + link.attrs['href']\n",
    "    req = requests.get(url)\n",
    "    \n",
    "    if req.status_code == 200:\n",
    "        html = req.text\n",
    "        with open(path + '/{}.html'.format(ep), 'w') as f:\n",
    "            f.write(html)\n",
    " "
   ]
  },
  {
   "cell_type": "markdown",
   "metadata": {},
   "source": [
    "# Открываем данные "
   ]
  },
  {
   "cell_type": "code",
   "execution_count": 19,
   "metadata": {},
   "outputs": [],
   "source": [
    "cast = ['joey', 'rachel', 'monica', 'ross', 'chandler', 'phoebe']\n",
    "season_episode = defaultdict(list)\n",
    "cast_lines = defaultdict(list)"
   ]
  },
  {
   "cell_type": "code",
   "execution_count": 20,
   "metadata": {},
   "outputs": [],
   "source": [
    "for directory in os.listdir(os.chdir(parent_dir)):\n",
    "    if directory != '.DS_Store':\n",
    "        path = os.path.join(parent_dir, directory) \n",
    "        for file in os.listdir(os.chdir(path)):\n",
    "            with open(file, 'r') as f:\n",
    "                html = f.read()\n",
    "                soup = BeautifulSoup(html, 'lxml')\n",
    "                for per in cast: cast_lines[per].append(0)\n",
    "                episode, cast_lines = parse_episode(soup, cast_lines, cast, normalize, word_check)\n",
    "                season_episode[directory].append(episode)"
   ]
  },
  {
   "cell_type": "markdown",
   "metadata": {},
   "source": [
    "# LDA"
   ]
  },
  {
   "cell_type": "code",
   "execution_count": 21,
   "metadata": {},
   "outputs": [],
   "source": [
    "def merge_seasons(season_episode):\n",
    "\n",
    "    all_ = []\n",
    "    index_name = []\n",
    "\n",
    "    for season in season_episode:\n",
    "        for index, ep in enumerate(season_episode[season]):\n",
    "#             bigrams = list(ngrams(ep, 2))\n",
    "#             count = Counter(bigrams)\n",
    "#             top = sorted(count.items(), key=lambda kv: kv[1], reverse=True)[:100]\n",
    "#             top = ['_'.join(i[0]) for i in top]\n",
    "#             all_.append(ep + top)\n",
    "            all_.append(ep)\n",
    "            index_name.append(season + '_' + str(index))\n",
    "    return all_, index_name\n",
    "\n",
    "def make_dictionary(all_):\n",
    "    dictionary = gensim.corpora.Dictionary(all_)\n",
    "    dictionary.filter_extremes(no_above=0.3)\n",
    "    dictionary.compactify()\n",
    "    corpus = [dictionary.doc2bow(doc) for doc in all_]\n",
    "    return dictionary, corpus"
   ]
  },
  {
   "cell_type": "code",
   "execution_count": 22,
   "metadata": {},
   "outputs": [],
   "source": [
    "all_, index_name = merge_seasons(season_episode)\n",
    "dictionary, corpus = make_dictionary(all_)"
   ]
  },
  {
   "cell_type": "markdown",
   "metadata": {},
   "source": [
    "## 10 топиков"
   ]
  },
  {
   "cell_type": "code",
   "execution_count": 23,
   "metadata": {},
   "outputs": [],
   "source": [
    "def words(lda, num_words=10):\n",
    "    d = {}\n",
    "    for index, line in enumerate(lda.print_topics(num_words=num_words)):\n",
    "        d[index] = re.findall('\"(.*?)\"', line[1])\n",
    "    return pd.DataFrame(d)"
   ]
  },
  {
   "cell_type": "code",
   "execution_count": 24,
   "metadata": {},
   "outputs": [
    {
     "data": {
      "text/html": [
       "<div>\n",
       "<style scoped>\n",
       "    .dataframe tbody tr th:only-of-type {\n",
       "        vertical-align: middle;\n",
       "    }\n",
       "\n",
       "    .dataframe tbody tr th {\n",
       "        vertical-align: top;\n",
       "    }\n",
       "\n",
       "    .dataframe thead th {\n",
       "        text-align: right;\n",
       "    }\n",
       "</style>\n",
       "<table border=\"1\" class=\"dataframe\">\n",
       "  <thead>\n",
       "    <tr style=\"text-align: right;\">\n",
       "      <th></th>\n",
       "      <th>0</th>\n",
       "      <th>1</th>\n",
       "      <th>2</th>\n",
       "      <th>3</th>\n",
       "      <th>4</th>\n",
       "      <th>5</th>\n",
       "      <th>6</th>\n",
       "      <th>7</th>\n",
       "      <th>8</th>\n",
       "      <th>9</th>\n",
       "    </tr>\n",
       "  </thead>\n",
       "  <tbody>\n",
       "    <tr>\n",
       "      <th>0</th>\n",
       "      <td>mark</td>\n",
       "      <td>mike</td>\n",
       "      <td>lauren</td>\n",
       "      <td>marcel</td>\n",
       "      <td>carol</td>\n",
       "      <td>richard</td>\n",
       "      <td>cat</td>\n",
       "      <td>emily</td>\n",
       "      <td>car</td>\n",
       "      <td>emma</td>\n",
       "    </tr>\n",
       "    <tr>\n",
       "      <th>1</th>\n",
       "      <td>dance</td>\n",
       "      <td>paul</td>\n",
       "      <td>ralph</td>\n",
       "      <td>monkey</td>\n",
       "      <td>julie</td>\n",
       "      <td>dog</td>\n",
       "      <td>smelly</td>\n",
       "      <td>wedding</td>\n",
       "      <td>birthday</td>\n",
       "      <td>win</td>\n",
       "    </tr>\n",
       "    <tr>\n",
       "      <th>2</th>\n",
       "      <td>box</td>\n",
       "      <td>ben</td>\n",
       "      <td>bobby</td>\n",
       "      <td>erica</td>\n",
       "      <td>janice</td>\n",
       "      <td>ben</td>\n",
       "      <td>amy</td>\n",
       "      <td>pant</td>\n",
       "      <td>coat</td>\n",
       "      <td>ball</td>\n",
       "    </tr>\n",
       "    <tr>\n",
       "      <th>3</th>\n",
       "      <td>naked</td>\n",
       "      <td>wedding</td>\n",
       "      <td>green</td>\n",
       "      <td>chick</td>\n",
       "      <td>susan</td>\n",
       "      <td>carol</td>\n",
       "      <td>school</td>\n",
       "      <td>london</td>\n",
       "      <td>cigarette</td>\n",
       "      <td>wedding</td>\n",
       "    </tr>\n",
       "    <tr>\n",
       "      <th>4</th>\n",
       "      <td>audition</td>\n",
       "      <td>christmas</td>\n",
       "      <td>bob</td>\n",
       "      <td>class</td>\n",
       "      <td>restaurant</td>\n",
       "      <td>frank</td>\n",
       "      <td>sandwich</td>\n",
       "      <td>picture</td>\n",
       "      <td>alone</td>\n",
       "      <td>birthday</td>\n",
       "    </tr>\n",
       "    <tr>\n",
       "      <th>5</th>\n",
       "      <td>stripper</td>\n",
       "      <td>smoke</td>\n",
       "      <td>fire</td>\n",
       "      <td>grandmother</td>\n",
       "      <td>david</td>\n",
       "      <td>doctor</td>\n",
       "      <td>emma</td>\n",
       "      <td>joke</td>\n",
       "      <td>parent</td>\n",
       "      <td>parent</td>\n",
       "    </tr>\n",
       "    <tr>\n",
       "      <th>6</th>\n",
       "      <td>bag</td>\n",
       "      <td>dress</td>\n",
       "      <td>restaurant</td>\n",
       "      <td>key</td>\n",
       "      <td>mike</td>\n",
       "      <td>susan</td>\n",
       "      <td>chip</td>\n",
       "      <td>bing</td>\n",
       "      <td>glass</td>\n",
       "      <td>ben</td>\n",
       "    </tr>\n",
       "    <tr>\n",
       "      <th>7</th>\n",
       "      <td>roommate</td>\n",
       "      <td>thanksgiving</td>\n",
       "      <td>interview</td>\n",
       "      <td>van</td>\n",
       "      <td>doctor</td>\n",
       "      <td>wedding</td>\n",
       "      <td>cry</td>\n",
       "      <td>cat</td>\n",
       "      <td>ben</td>\n",
       "      <td>ticket</td>\n",
       "    </tr>\n",
       "    <tr>\n",
       "      <th>8</th>\n",
       "      <td>tree</td>\n",
       "      <td>tulsa</td>\n",
       "      <td>lunch</td>\n",
       "      <td>zoo</td>\n",
       "      <td>wine</td>\n",
       "      <td>pete</td>\n",
       "      <td>jill</td>\n",
       "      <td>floor</td>\n",
       "      <td>smoking</td>\n",
       "      <td>car</td>\n",
       "    </tr>\n",
       "    <tr>\n",
       "      <th>9</th>\n",
       "      <td>joe</td>\n",
       "      <td>parent</td>\n",
       "      <td>cast</td>\n",
       "      <td>mindy</td>\n",
       "      <td>ben</td>\n",
       "      <td>card</td>\n",
       "      <td>mother</td>\n",
       "      <td>fire</td>\n",
       "      <td>boat</td>\n",
       "      <td>dress</td>\n",
       "    </tr>\n",
       "  </tbody>\n",
       "</table>\n",
       "</div>"
      ],
      "text/plain": [
       "          0             1           2            3           4        5  \\\n",
       "0      mark          mike      lauren       marcel       carol  richard   \n",
       "1     dance          paul       ralph       monkey       julie      dog   \n",
       "2       box           ben       bobby        erica      janice      ben   \n",
       "3     naked       wedding       green        chick       susan    carol   \n",
       "4  audition     christmas         bob        class  restaurant    frank   \n",
       "5  stripper         smoke        fire  grandmother       david   doctor   \n",
       "6       bag         dress  restaurant          key        mike    susan   \n",
       "7  roommate  thanksgiving   interview          van      doctor  wedding   \n",
       "8      tree         tulsa       lunch          zoo        wine     pete   \n",
       "9       joe        parent        cast        mindy         ben     card   \n",
       "\n",
       "          6        7          8         9  \n",
       "0       cat    emily        car      emma  \n",
       "1    smelly  wedding   birthday       win  \n",
       "2       amy     pant       coat      ball  \n",
       "3    school   london  cigarette   wedding  \n",
       "4  sandwich  picture      alone  birthday  \n",
       "5      emma     joke     parent    parent  \n",
       "6      chip     bing      glass       ben  \n",
       "7       cry      cat        ben    ticket  \n",
       "8      jill    floor    smoking       car  \n",
       "9    mother     fire       boat     dress  "
      ]
     },
     "execution_count": 24,
     "metadata": {},
     "output_type": "execute_result"
    }
   ],
   "source": [
    "lda_10 = gensim.models.LdaModel(corpus, id2word=dictionary, \n",
    "                                 passes=15, num_topics=10,\n",
    "                                 eta='auto', random_state=42)\n",
    "words(lda_10, num_words=10)"
   ]
  },
  {
   "cell_type": "markdown",
   "metadata": {},
   "source": [
    "1 тема напоминает 9 сезон\n",
    "* Фиби знакомится с Майком\n",
    "* Чендлер переезжает в Талсу, с этим связано и курение (переехав туда он начинает курить)\n",
    "* Чендлер пропускает День благодарение и Рождество (есть целая серия Christmas in Tulsa)"
   ]
  },
  {
   "cell_type": "markdown",
   "metadata": {},
   "source": [
    "2 тема может быть связана с Рейчел\n",
    "* Ральф Лорен - место, где она работала\n",
    "* Грин - фамилия\n",
    "* У нее было интервью на новую работу за ланчем в ресторане, из-за которого ее и уволили из  Ральф Лорен\n",
    "\n",
    "Как связан Бобби я не знаю, это был парень Моники"
   ]
  },
  {
   "cell_type": "markdown",
   "metadata": {},
   "source": [
    "7 тема напоминает 4 сезон, где Росс женится на Эмили в Лондоне"
   ]
  },
  {
   "cell_type": "markdown",
   "metadata": {},
   "source": [
    "Остальные тоже можно приплести к героям, но уже хуже"
   ]
  },
  {
   "cell_type": "markdown",
   "metadata": {},
   "source": [
    "## 5 топиков"
   ]
  },
  {
   "cell_type": "code",
   "execution_count": 26,
   "metadata": {},
   "outputs": [
    {
     "data": {
      "text/html": [
       "<div>\n",
       "<style scoped>\n",
       "    .dataframe tbody tr th:only-of-type {\n",
       "        vertical-align: middle;\n",
       "    }\n",
       "\n",
       "    .dataframe tbody tr th {\n",
       "        vertical-align: top;\n",
       "    }\n",
       "\n",
       "    .dataframe thead th {\n",
       "        text-align: right;\n",
       "    }\n",
       "</style>\n",
       "<table border=\"1\" class=\"dataframe\">\n",
       "  <thead>\n",
       "    <tr style=\"text-align: right;\">\n",
       "      <th></th>\n",
       "      <th>0</th>\n",
       "      <th>1</th>\n",
       "      <th>2</th>\n",
       "      <th>3</th>\n",
       "      <th>4</th>\n",
       "    </tr>\n",
       "  </thead>\n",
       "  <tbody>\n",
       "    <tr>\n",
       "      <th>0</th>\n",
       "      <td>emily</td>\n",
       "      <td>mike</td>\n",
       "      <td>emma</td>\n",
       "      <td>marcel</td>\n",
       "      <td>richard</td>\n",
       "    </tr>\n",
       "    <tr>\n",
       "      <th>1</th>\n",
       "      <td>wedding</td>\n",
       "      <td>wedding</td>\n",
       "      <td>dog</td>\n",
       "      <td>monkey</td>\n",
       "      <td>carol</td>\n",
       "    </tr>\n",
       "    <tr>\n",
       "      <th>2</th>\n",
       "      <td>box</td>\n",
       "      <td>paul</td>\n",
       "      <td>birthday</td>\n",
       "      <td>erica</td>\n",
       "      <td>ben</td>\n",
       "    </tr>\n",
       "    <tr>\n",
       "      <th>3</th>\n",
       "      <td>mark</td>\n",
       "      <td>ball</td>\n",
       "      <td>bos</td>\n",
       "      <td>christmas</td>\n",
       "      <td>susan</td>\n",
       "    </tr>\n",
       "    <tr>\n",
       "      <th>4</th>\n",
       "      <td>london</td>\n",
       "      <td>joke</td>\n",
       "      <td>cake</td>\n",
       "      <td>ben</td>\n",
       "      <td>julie</td>\n",
       "    </tr>\n",
       "    <tr>\n",
       "      <th>5</th>\n",
       "      <td>naked</td>\n",
       "      <td>cat</td>\n",
       "      <td>restaurant</td>\n",
       "      <td>card</td>\n",
       "      <td>janice</td>\n",
       "    </tr>\n",
       "    <tr>\n",
       "      <th>6</th>\n",
       "      <td>dance</td>\n",
       "      <td>smoke</td>\n",
       "      <td>fire</td>\n",
       "      <td>green</td>\n",
       "      <td>car</td>\n",
       "    </tr>\n",
       "    <tr>\n",
       "      <th>7</th>\n",
       "      <td>book</td>\n",
       "      <td>cup</td>\n",
       "      <td>amy</td>\n",
       "      <td>thanksgiving</td>\n",
       "      <td>doctor</td>\n",
       "    </tr>\n",
       "    <tr>\n",
       "      <th>8</th>\n",
       "      <td>kathy</td>\n",
       "      <td>relationship</td>\n",
       "      <td>picture</td>\n",
       "      <td>class</td>\n",
       "      <td>parent</td>\n",
       "    </tr>\n",
       "    <tr>\n",
       "      <th>9</th>\n",
       "      <td>cat</td>\n",
       "      <td>thanksgiving</td>\n",
       "      <td>bing</td>\n",
       "      <td>chick</td>\n",
       "      <td>mike</td>\n",
       "    </tr>\n",
       "  </tbody>\n",
       "</table>\n",
       "</div>"
      ],
      "text/plain": [
       "         0             1           2             3        4\n",
       "0    emily          mike        emma        marcel  richard\n",
       "1  wedding       wedding         dog        monkey    carol\n",
       "2      box          paul    birthday         erica      ben\n",
       "3     mark          ball         bos     christmas    susan\n",
       "4   london          joke        cake           ben    julie\n",
       "5    naked           cat  restaurant          card   janice\n",
       "6    dance         smoke        fire         green      car\n",
       "7     book           cup         amy  thanksgiving   doctor\n",
       "8    kathy  relationship     picture         class   parent\n",
       "9      cat  thanksgiving        bing         chick     mike"
      ]
     },
     "execution_count": 26,
     "metadata": {},
     "output_type": "execute_result"
    }
   ],
   "source": [
    "lda_5 = gensim.models.LdaModel(corpus, id2word=dictionary, \n",
    "                                 passes=15, num_topics=5,\n",
    "                                 eta='auto', random_state=42)\n",
    "words(lda_5, num_words=10)"
   ]
  },
  {
   "cell_type": "markdown",
   "metadata": {},
   "source": [
    "Тут уже хуже дела обстоят"
   ]
  },
  {
   "cell_type": "markdown",
   "metadata": {},
   "source": [
    "## 15 топиков"
   ]
  },
  {
   "cell_type": "code",
   "execution_count": 27,
   "metadata": {},
   "outputs": [
    {
     "data": {
      "text/html": [
       "<div>\n",
       "<style scoped>\n",
       "    .dataframe tbody tr th:only-of-type {\n",
       "        vertical-align: middle;\n",
       "    }\n",
       "\n",
       "    .dataframe tbody tr th {\n",
       "        vertical-align: top;\n",
       "    }\n",
       "\n",
       "    .dataframe thead th {\n",
       "        text-align: right;\n",
       "    }\n",
       "</style>\n",
       "<table border=\"1\" class=\"dataframe\">\n",
       "  <thead>\n",
       "    <tr style=\"text-align: right;\">\n",
       "      <th></th>\n",
       "      <th>0</th>\n",
       "      <th>1</th>\n",
       "      <th>2</th>\n",
       "      <th>3</th>\n",
       "      <th>4</th>\n",
       "      <th>5</th>\n",
       "      <th>6</th>\n",
       "      <th>7</th>\n",
       "      <th>8</th>\n",
       "      <th>9</th>\n",
       "      <th>10</th>\n",
       "      <th>11</th>\n",
       "      <th>12</th>\n",
       "      <th>13</th>\n",
       "      <th>14</th>\n",
       "    </tr>\n",
       "  </thead>\n",
       "  <tbody>\n",
       "    <tr>\n",
       "      <th>0</th>\n",
       "      <td>naked</td>\n",
       "      <td>paul</td>\n",
       "      <td>ralph</td>\n",
       "      <td>erica</td>\n",
       "      <td>carol</td>\n",
       "      <td>richard</td>\n",
       "      <td>cat</td>\n",
       "      <td>emily</td>\n",
       "      <td>birthday</td>\n",
       "      <td>emma</td>\n",
       "      <td>car</td>\n",
       "      <td>message</td>\n",
       "      <td>marcel</td>\n",
       "      <td>julie</td>\n",
       "      <td>christmas</td>\n",
       "    </tr>\n",
       "    <tr>\n",
       "      <th>1</th>\n",
       "      <td>mark</td>\n",
       "      <td>wedding</td>\n",
       "      <td>lauren</td>\n",
       "      <td>chick</td>\n",
       "      <td>susan</td>\n",
       "      <td>doctor</td>\n",
       "      <td>emma</td>\n",
       "      <td>london</td>\n",
       "      <td>coat</td>\n",
       "      <td>ball</td>\n",
       "      <td>dog</td>\n",
       "      <td>richard</td>\n",
       "      <td>cat</td>\n",
       "      <td>interview</td>\n",
       "      <td>thanksgiving</td>\n",
       "    </tr>\n",
       "    <tr>\n",
       "      <th>2</th>\n",
       "      <td>stripper</td>\n",
       "      <td>ben</td>\n",
       "      <td>wedding</td>\n",
       "      <td>monkey</td>\n",
       "      <td>janice</td>\n",
       "      <td>mike</td>\n",
       "      <td>amy</td>\n",
       "      <td>joke</td>\n",
       "      <td>boat</td>\n",
       "      <td>bob</td>\n",
       "      <td>smoke</td>\n",
       "      <td>barry</td>\n",
       "      <td>monkey</td>\n",
       "      <td>chan</td>\n",
       "      <td>present</td>\n",
       "    </tr>\n",
       "    <tr>\n",
       "      <th>3</th>\n",
       "      <td>kathy</td>\n",
       "      <td>dress</td>\n",
       "      <td>paper</td>\n",
       "      <td>grandmother</td>\n",
       "      <td>ben</td>\n",
       "      <td>wedding</td>\n",
       "      <td>cry</td>\n",
       "      <td>wedding</td>\n",
       "      <td>glass</td>\n",
       "      <td>ben</td>\n",
       "      <td>restaurant</td>\n",
       "      <td>mindy</td>\n",
       "      <td>smelly</td>\n",
       "      <td>cat</td>\n",
       "      <td>box</td>\n",
       "    </tr>\n",
       "    <tr>\n",
       "      <th>4</th>\n",
       "      <td>roommate</td>\n",
       "      <td>cup</td>\n",
       "      <td>amy</td>\n",
       "      <td>van</td>\n",
       "      <td>restaurant</td>\n",
       "      <td>ben</td>\n",
       "      <td>tulsa</td>\n",
       "      <td>pant</td>\n",
       "      <td>car</td>\n",
       "      <td>birthday</td>\n",
       "      <td>cigarette</td>\n",
       "      <td>chip</td>\n",
       "      <td>hat</td>\n",
       "      <td>pant</td>\n",
       "      <td>wedding</td>\n",
       "    </tr>\n",
       "  </tbody>\n",
       "</table>\n",
       "</div>"
      ],
      "text/plain": [
       "         0        1        2            3           4        5      6   \\\n",
       "0     naked     paul    ralph        erica       carol  richard    cat   \n",
       "1      mark  wedding   lauren        chick       susan   doctor   emma   \n",
       "2  stripper      ben  wedding       monkey      janice     mike    amy   \n",
       "3     kathy    dress    paper  grandmother         ben  wedding    cry   \n",
       "4  roommate      cup      amy          van  restaurant      ben  tulsa   \n",
       "\n",
       "        7         8         9           10       11      12         13  \\\n",
       "0    emily  birthday      emma         car  message  marcel      julie   \n",
       "1   london      coat      ball         dog  richard     cat  interview   \n",
       "2     joke      boat       bob       smoke    barry  monkey       chan   \n",
       "3  wedding     glass       ben  restaurant    mindy  smelly        cat   \n",
       "4     pant       car  birthday   cigarette     chip     hat       pant   \n",
       "\n",
       "             14  \n",
       "0     christmas  \n",
       "1  thanksgiving  \n",
       "2       present  \n",
       "3           box  \n",
       "4       wedding  "
      ]
     },
     "execution_count": 27,
     "metadata": {},
     "output_type": "execute_result"
    }
   ],
   "source": [
    "lda_15 = gensim.models.LdaModel(corpus, id2word=dictionary, \n",
    "                                 passes=15, num_topics=15,\n",
    "                                 eta='auto', random_state=42)\n",
    "words(lda_15, num_words=5)"
   ]
  },
  {
   "cell_type": "markdown",
   "metadata": {},
   "source": [
    "* 6 топик напоминате 9 сезон серию, где приезжает сестра Рейчел Эми, они разбивают тарелки Моники (она плачет из-за этого), Чендлер перезжает в Талсу.\n",
    "\n",
    "* 7 топик - свадьба Росса и Эмили в Лондоне\n",
    "\n",
    "* 11 топик - Ричард и Моника расстаются на свадьбе Барри и Минди"
   ]
  },
  {
   "cell_type": "markdown",
   "metadata": {},
   "source": [
    "#  Удаление имен из текстов"
   ]
  },
  {
   "cell_type": "markdown",
   "metadata": {},
   "source": [
    "В топиках очень много имен, удалим их"
   ]
  },
  {
   "cell_type": "code",
   "execution_count": 28,
   "metadata": {},
   "outputs": [],
   "source": [
    "def word_check2(sent):\n",
    "    words = []\n",
    "    for index, word in enumerate(word_tokenize(sent)):\n",
    "        if word.istitle() and index != 0: continue\n",
    "        else:\n",
    "            word = word.strip(punct)\n",
    "            word = lemmatizer.lemmatize(word.lower())\n",
    "            if word.isalpha() and word not in stops and len(word) > 2:\n",
    "                words.append(word.lower())\n",
    "    return words"
   ]
  },
  {
   "cell_type": "code",
   "execution_count": 29,
   "metadata": {},
   "outputs": [],
   "source": [
    "season_episode2 = defaultdict(list)\n",
    "cast_lines2 = defaultdict(list)\n",
    "\n",
    "for directory in os.listdir(os.chdir(parent_dir)):\n",
    "    if directory != '.DS_Store':\n",
    "        path = os.path.join(parent_dir, directory) \n",
    "        for file in os.listdir(os.chdir(path)):\n",
    "            with open(file, 'r') as f:\n",
    "                html = f.read()\n",
    "                soup = BeautifulSoup(html, 'lxml')\n",
    "                for per in cast: cast_lines2[per].append(0)\n",
    "                episode, cast_lines2 = parse_episode(soup, cast_lines2, cast, normalize, word_check2)\n",
    "                season_episode2[directory].append(episode)"
   ]
  },
  {
   "cell_type": "code",
   "execution_count": 30,
   "metadata": {},
   "outputs": [],
   "source": [
    "all_2, index_name2 = merge_seasons(season_episode2)\n",
    "dictionary2, corpus2 = make_dictionary(all_2)"
   ]
  },
  {
   "cell_type": "code",
   "execution_count": 31,
   "metadata": {},
   "outputs": [
    {
     "data": {
      "text/html": [
       "<div>\n",
       "<style scoped>\n",
       "    .dataframe tbody tr th:only-of-type {\n",
       "        vertical-align: middle;\n",
       "    }\n",
       "\n",
       "    .dataframe tbody tr th {\n",
       "        vertical-align: top;\n",
       "    }\n",
       "\n",
       "    .dataframe thead th {\n",
       "        text-align: right;\n",
       "    }\n",
       "</style>\n",
       "<table border=\"1\" class=\"dataframe\">\n",
       "  <thead>\n",
       "    <tr style=\"text-align: right;\">\n",
       "      <th></th>\n",
       "      <th>0</th>\n",
       "      <th>1</th>\n",
       "      <th>2</th>\n",
       "      <th>3</th>\n",
       "      <th>4</th>\n",
       "      <th>5</th>\n",
       "      <th>6</th>\n",
       "      <th>7</th>\n",
       "      <th>8</th>\n",
       "      <th>9</th>\n",
       "    </tr>\n",
       "  </thead>\n",
       "  <tbody>\n",
       "    <tr>\n",
       "      <th>0</th>\n",
       "      <td>cat</td>\n",
       "      <td>geller</td>\n",
       "      <td>birthday</td>\n",
       "      <td>rach</td>\n",
       "      <td>roommate</td>\n",
       "      <td>ball</td>\n",
       "      <td>joke</td>\n",
       "      <td>wedding</td>\n",
       "      <td>wedding</td>\n",
       "      <td>monkey</td>\n",
       "    </tr>\n",
       "    <tr>\n",
       "      <th>1</th>\n",
       "      <td>cry</td>\n",
       "      <td>bag</td>\n",
       "      <td>book</td>\n",
       "      <td>dog</td>\n",
       "      <td>doctor</td>\n",
       "      <td>richard</td>\n",
       "      <td>hat</td>\n",
       "      <td>picture</td>\n",
       "      <td>richard</td>\n",
       "      <td>marcel</td>\n",
       "    </tr>\n",
       "    <tr>\n",
       "      <th>2</th>\n",
       "      <td>ticket</td>\n",
       "      <td>birthday</td>\n",
       "      <td>richard</td>\n",
       "      <td>car</td>\n",
       "      <td>fridge</td>\n",
       "      <td>chick</td>\n",
       "      <td>parent</td>\n",
       "      <td>pant</td>\n",
       "      <td>dad</td>\n",
       "      <td>dad</td>\n",
       "    </tr>\n",
       "    <tr>\n",
       "      <th>3</th>\n",
       "      <td>win</td>\n",
       "      <td>dad</td>\n",
       "      <td>parent</td>\n",
       "      <td>dad</td>\n",
       "      <td>flirting</td>\n",
       "      <td>dance</td>\n",
       "      <td>dog</td>\n",
       "      <td>dress</td>\n",
       "      <td>bike</td>\n",
       "      <td>father</td>\n",
       "    </tr>\n",
       "    <tr>\n",
       "      <th>4</th>\n",
       "      <td>boyfriend</td>\n",
       "      <td>richard</td>\n",
       "      <td>class</td>\n",
       "      <td>key</td>\n",
       "      <td>guest</td>\n",
       "      <td>set</td>\n",
       "      <td>pant</td>\n",
       "      <td>ticket</td>\n",
       "      <td>candy</td>\n",
       "      <td>light</td>\n",
       "    </tr>\n",
       "    <tr>\n",
       "      <th>5</th>\n",
       "      <td>smelly</td>\n",
       "      <td>director</td>\n",
       "      <td>wedding</td>\n",
       "      <td>parent</td>\n",
       "      <td>plate</td>\n",
       "      <td>win</td>\n",
       "      <td>milk</td>\n",
       "      <td>rule</td>\n",
       "      <td>carol</td>\n",
       "      <td>present</td>\n",
       "    </tr>\n",
       "    <tr>\n",
       "      <th>6</th>\n",
       "      <td>buy</td>\n",
       "      <td>audition</td>\n",
       "      <td>sandwich</td>\n",
       "      <td>moving</td>\n",
       "      <td>soon</td>\n",
       "      <td>four</td>\n",
       "      <td>counter</td>\n",
       "      <td>laundry</td>\n",
       "      <td>box</td>\n",
       "      <td>shoe</td>\n",
       "    </tr>\n",
       "    <tr>\n",
       "      <th>7</th>\n",
       "      <td>tape</td>\n",
       "      <td>book</td>\n",
       "      <td>fish</td>\n",
       "      <td>box</td>\n",
       "      <td>hurt</td>\n",
       "      <td>camera</td>\n",
       "      <td>dad</td>\n",
       "      <td>plan</td>\n",
       "      <td>joke</td>\n",
       "      <td>doctor</td>\n",
       "    </tr>\n",
       "    <tr>\n",
       "      <th>8</th>\n",
       "      <td>book</td>\n",
       "      <td>purse</td>\n",
       "      <td>wear</td>\n",
       "      <td>shoe</td>\n",
       "      <td>box</td>\n",
       "      <td>laugh</td>\n",
       "      <td>lunch</td>\n",
       "      <td>machine</td>\n",
       "      <td>toast</td>\n",
       "      <td>grandmother</td>\n",
       "    </tr>\n",
       "    <tr>\n",
       "      <th>9</th>\n",
       "      <td>butt</td>\n",
       "      <td>robot</td>\n",
       "      <td>stripper</td>\n",
       "      <td>window</td>\n",
       "      <td>dress</td>\n",
       "      <td>floor</td>\n",
       "      <td>cat</td>\n",
       "      <td>bath</td>\n",
       "      <td>card</td>\n",
       "      <td>glass</td>\n",
       "    </tr>\n",
       "  </tbody>\n",
       "</table>\n",
       "</div>"
      ],
      "text/plain": [
       "           0         1         2       3         4        5        6        7  \\\n",
       "0        cat    geller  birthday    rach  roommate     ball     joke  wedding   \n",
       "1        cry       bag      book     dog    doctor  richard      hat  picture   \n",
       "2     ticket  birthday   richard     car    fridge    chick   parent     pant   \n",
       "3        win       dad    parent     dad  flirting    dance      dog    dress   \n",
       "4  boyfriend   richard     class     key     guest      set     pant   ticket   \n",
       "5     smelly  director   wedding  parent     plate      win     milk     rule   \n",
       "6        buy  audition  sandwich  moving      soon     four  counter  laundry   \n",
       "7       tape      book      fish     box      hurt   camera      dad     plan   \n",
       "8       book     purse      wear    shoe       box    laugh    lunch  machine   \n",
       "9       butt     robot  stripper  window     dress    floor      cat     bath   \n",
       "\n",
       "         8            9  \n",
       "0  wedding       monkey  \n",
       "1  richard       marcel  \n",
       "2      dad          dad  \n",
       "3     bike       father  \n",
       "4    candy        light  \n",
       "5    carol      present  \n",
       "6      box         shoe  \n",
       "7     joke       doctor  \n",
       "8    toast  grandmother  \n",
       "9     card        glass  "
      ]
     },
     "execution_count": 31,
     "metadata": {},
     "output_type": "execute_result"
    }
   ],
   "source": [
    "lda2_10 = gensim.models.LdaModel(corpus2, id2word=dictionary2, \n",
    "                                 passes=15, num_topics=10,\n",
    "                                 eta='auto', random_state=42)\n",
    "words(lda2_10, num_words=10)"
   ]
  },
  {
   "cell_type": "markdown",
   "metadata": {},
   "source": [
    "Тема 1 очень подходит под описание 6 сезона:\n",
    "    * Джо получает роль в сериале про робота\n",
    "    * Чендлер делает предложение Монике, но в это вмешивается Ричард\n",
    "    * Росс встречает отца своей девушки"
   ]
  },
  {
   "cell_type": "markdown",
   "metadata": {},
   "source": [
    "Тема 4 тоже под 6 подходит: \n",
    "    * Чендлер живет с Моникой, \n",
    "    * Джо находит новую сожителицу, с которой он флиртует"
   ]
  },
  {
   "cell_type": "markdown",
   "metadata": {},
   "source": [
    "9 тема может относиться к Россу"
   ]
  },
  {
   "cell_type": "markdown",
   "metadata": {},
   "source": [
    "## Распределение топиков"
   ]
  },
  {
   "cell_type": "code",
   "execution_count": 32,
   "metadata": {},
   "outputs": [],
   "source": [
    "from scipy.stats import gaussian_kde\n",
    "import matplotlib.pyplot as plt\n",
    "import pandas as pd\n",
    "import numpy as np\n",
    "import seaborn as sns"
   ]
  },
  {
   "cell_type": "code",
   "execution_count": 36,
   "metadata": {},
   "outputs": [],
   "source": [
    "topic_doc = defaultdict(list)\n",
    "season_topic = defaultdict(list)\n",
    "doc_topic = {}\n",
    "\n",
    "\n",
    "for index, text in enumerate(corpus):\n",
    "    \n",
    "    season = index_name2[index].split('_')[0]\n",
    "    \n",
    "    topic, maximum = 0, 0\n",
    "    topics = lda_10.get_document_topics(text)\n",
    "    \n",
    "    for i in range(10): \n",
    "        topic_doc[i].append(0)\n",
    "        \n",
    "    for i in range(10): \n",
    "        topic_doc[i].append(0)\n",
    "    \n",
    "    if season not in season_topic:\n",
    "        season_topic[season] = [0]*10 \n",
    "        \n",
    "    for top in topics:\n",
    "        t, score = top\n",
    "        topic_doc[t][-1] = score\n",
    "        season_topic[season][t] += score\n",
    "        \n",
    "        if score > maximum:\n",
    "            maximum = score \n",
    "            topic = t\n",
    "            \n",
    "    doc_topic[index] = topic"
   ]
  },
  {
   "cell_type": "code",
   "execution_count": 55,
   "metadata": {},
   "outputs": [],
   "source": [
    "topic_season = np.zeros((10,10))\n",
    "\n",
    "for season in season_topic:\n",
    "    for index, topic in enumerate(season_topic[season]):\n",
    "        topic_season[index][int(season)-1] += topic"
   ]
  },
  {
   "cell_type": "markdown",
   "metadata": {},
   "source": [
    "# Проверяем теории"
   ]
  },
  {
   "cell_type": "markdown",
   "metadata": {},
   "source": [
    "Изобразим распределение топиков по сезонам"
   ]
  },
  {
   "cell_type": "code",
   "execution_count": 133,
   "metadata": {},
   "outputs": [],
   "source": [
    "ssns = [str(i + 1) for i in range(10)]\n",
    "data = pd.DataFrame(topic_season)\n",
    "data = data.T\n",
    "data.columns = [str(i) for i in range(10)]\n",
    "data = data.astype(float)\n",
    "data['season'] = ssns"
   ]
  },
  {
   "cell_type": "code",
   "execution_count": 134,
   "metadata": {},
   "outputs": [
    {
     "data": {
      "image/png": "[encoded data removed]",
      "text/plain": [
       "<Figure size 1296x936 with 10 Axes>"
      ]
     },
     "metadata": {
      "needs_background": "light"
     },
     "output_type": "display_data"
    }
   ],
   "source": [
    "u = ssns\n",
    "ncols, nrows = 2, 5\n",
    "fig, axes = plt.subplots(ncols=ncols, nrows=nrows, figsize=(18, 13))\n",
    "index = 0\n",
    "\n",
    "for ax in axes:\n",
    "    \n",
    "    for i in range(ncols):\n",
    "  \n",
    "        plot = data.plot.bar(x='season', \n",
    "                             y=str(i+index), ax=ax[i],\n",
    "                             color = 'rosybrown')\n",
    "     \n",
    "        plot.set_xlabel(\"Сезон\")\n",
    "        plot.set_ylabel(\"Score\")\n",
    "        plot.set_axisbelow(True)\n",
    "        plot.yaxis.grid(color='gainsboro', linestyle='dashed')\n",
    "        plot.xaxis.grid(color='gainsboro', linestyle='dashed')\n",
    "    \n",
    "    index += 2\n",
    "plt.tight_layout()\n",
    "plt.show()"
   ]
  },
  {
   "cell_type": "markdown",
   "metadata": {},
   "source": [
    "В итоге:"
   ]
  },
  {
   "cell_type": "markdown",
   "metadata": {},
   "source": [
    "* 1 топик действительно больше всего релевантен для 9 сезона\n",
    "* 7 топик больше всего релевантен для 4 и 5 сезона (в пятом сезоне продолжает стори лайн с Эмили)"
   ]
  },
  {
   "cell_type": "markdown",
   "metadata": {},
   "source": [
    "Остальные торпики, как и предполагалось, не очень информативные."
   ]
  },
  {
   "cell_type": "markdown",
   "metadata": {},
   "source": [
    "## 2 тема связана с Рейчел?"
   ]
  },
  {
   "cell_type": "markdown",
   "metadata": {},
   "source": [
    "Нарисуем частотность речей Рейчел по сезонам и сравним с распределением 2 топика по сезонам"
   ]
  },
  {
   "cell_type": "code",
   "execution_count": 139,
   "metadata": {},
   "outputs": [],
   "source": [
    "rachel = cast_lines['rachel']\n",
    "rach_seas = [0]*10\n",
    "        \n",
    "for index, episode in enumerate(rachel):\n",
    "    \n",
    "    season = index_name2[index].split('_')[0]\n",
    "    rach_seas[int(season)-1] += episode"
   ]
  },
  {
   "cell_type": "code",
   "execution_count": 141,
   "metadata": {},
   "outputs": [],
   "source": [
    "data['rachel'] = rach_seas"
   ]
  },
  {
   "cell_type": "code",
   "execution_count": 148,
   "metadata": {},
   "outputs": [
    {
     "data": {
      "text/plain": [
       "<matplotlib.axes._subplots.AxesSubplot at 0x118f2ec18>"
      ]
     },
     "execution_count": 148,
     "metadata": {},
     "output_type": "execute_result"
    },
    {
     "data": {
      "image/png": "[encoded data removed]",
      "text/plain": [
       "<Figure size 432x288 with 1 Axes>"
      ]
     },
     "metadata": {
      "needs_background": "light"
     },
     "output_type": "display_data"
    }
   ],
   "source": [
    "data.plot.scatter(x='rachel', y='2')"
   ]
  },
  {
   "cell_type": "markdown",
   "metadata": {},
   "source": [
    "Линейной зависимости нет"
   ]
  },
  {
   "cell_type": "code",
   "execution_count": 151,
   "metadata": {},
   "outputs": [
    {
     "data": {
      "text/plain": [
       "<matplotlib.axes._subplots.AxesSubplot at 0x11eb27cc0>"
      ]
     },
     "execution_count": 151,
     "metadata": {},
     "output_type": "execute_result"
    },
    {
     "data": {
      "image/png": "[encoded data removed]",
      "text/plain": [
       "<Figure size 432x288 with 1 Axes>"
      ]
     },
     "metadata": {
      "needs_background": "light"
     },
     "output_type": "display_data"
    }
   ],
   "source": [
    "data.plot.bar(x='season', \n",
    "              y='rachel',\n",
    "              color = 'rosybrown')"
   ]
  },
  {
   "cell_type": "markdown",
   "metadata": {},
   "source": [
    "Пики не совпадают с пиками топика 2, теория не подтвердилась"
   ]
  }
 ],
 "metadata": {
  "kernelspec": {
   "display_name": "Python 3",
   "language": "python",
   "name": "python3"
  },
  "language_info": {
   "codemirror_mode": {
    "name": "ipython",
    "version": 3
   },
   "file_extension": ".py",
   "mimetype": "text/x-python",
   "name": "python",
   "nbconvert_exporter": "python",
   "pygments_lexer": "ipython3",
   "version": "3.6.5"
  }
 },
 "nbformat": 4,
 "nbformat_minor": 2
}
