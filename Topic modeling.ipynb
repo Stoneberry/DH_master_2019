{
 "cells": [
  {
   "cell_type": "code",
   "execution_count": 75,
   "metadata": {},
   "outputs": [],
   "source": [
    "import gensim\n",
    "import string\n",
    "import re\n",
    "import pandas as pd\n",
    "from pymorphy2 import MorphAnalyzer\n",
    "from nltk.tokenize import word_tokenize\n",
    "from nltk.corpus import stopwords\n",
    "from nltk import sent_tokenize\n",
    "\n",
    "import warnings\n",
    "warnings.filterwarnings(\"ignore\")\n",
    "\n",
    "morph = MorphAnalyzer()"
   ]
  },
  {
   "cell_type": "code",
   "execution_count": 2,
   "metadata": {},
   "outputs": [],
   "source": [
    "stops = set(stopwords.words('russian'))"
   ]
  },
  {
   "cell_type": "code",
   "execution_count": 48,
   "metadata": {},
   "outputs": [],
   "source": [
    "path = '/Users/Stoneberry/Desktop/Uni/Мага/dh_books/1933_Belyaev_Pryzhok v nichto.txt'"
   ]
  },
  {
   "cell_type": "code",
   "execution_count": 49,
   "metadata": {},
   "outputs": [],
   "source": [
    "with open(path, 'r', encoding='utf-8') as f:\n",
    "    text = f.read()"
   ]
  },
  {
   "cell_type": "code",
   "execution_count": 5,
   "metadata": {},
   "outputs": [
    {
     "data": {
      "text/plain": [
       "'Предисловие К. Э. Циолковского ко второму изданию\\n\\nОбстоятельный, добросовестный и благоприятный отзыв о романе А. Р. Беляева \"Прыжок в ничто\" сделан уважаемым проф. Н. А. Рыниным. Этот отзыв в качестве послесловия помещен и в настоящем, втором, издании.\\nЯ же могу только подтвердить этот отзыв и прибавить, что из всех известных мне рассказов, оригинальных и переводных, на тему о межпланетных сообщениях роман А. Р. Беляева мне кажется наиболее содержательным и научным. Конечно, возможно лучшее, но, однако, пока его нет. Поэтому я сердечно и искренне приветствую появление второго издания, которое, несомненно, будет способствовать распространению в массах интереса к заатмосферным полетам.\\nВероятно, их ожидает великое будущее.\\nК. Циолковский\\n\\nКалуга. Март 1935 г.\\nЧасть первая. Акционерное общество спасателей\\n\\nГлава I\\n\\nБольшие знания могут быть причиной больших неприятностей\\n\\n0x01 graphic\\nЦандер резко отодвинул чертеж, встал из-за стола, прошелся по кабинету. Вынул из футляра скрипку и заиг'"
      ]
     },
     "execution_count": 5,
     "metadata": {},
     "output_type": "execute_result"
    }
   ],
   "source": [
    "text[:1000]"
   ]
  },
  {
   "cell_type": "code",
   "execution_count": 57,
   "metadata": {},
   "outputs": [],
   "source": [
    "# 0x01 graphic"
   ]
  },
  {
   "cell_type": "markdown",
   "metadata": {},
   "source": [
    "## Нормализация"
   ]
  },
  {
   "cell_type": "code",
   "execution_count": 71,
   "metadata": {},
   "outputs": [],
   "source": [
    "i = 0\n",
    "all_ = []\n",
    "\n",
    "for sent in sent_tokenize(text):\n",
    "\n",
    "    norm_words = []\n",
    "    words = word_tokenize(sent)\n",
    "    \n",
    "    for word in words:\n",
    "        \n",
    "        word = word.lower()\n",
    "        if word.isalpha() and word not in stops:\n",
    "            norm_words.append(morph.parse(word)[0].normal_form)\n",
    "\n",
    "    all_.append(norm_words)\n"
   ]
  },
  {
   "cell_type": "code",
   "execution_count": 72,
   "metadata": {},
   "outputs": [
    {
     "data": {
      "text/plain": [
       "7783"
      ]
     },
     "execution_count": 72,
     "metadata": {},
     "output_type": "execute_result"
    }
   ],
   "source": [
    "len(all_)"
   ]
  },
  {
   "cell_type": "markdown",
   "metadata": {},
   "source": [
    "## Ngram"
   ]
  },
  {
   "cell_type": "code",
   "execution_count": 17,
   "metadata": {},
   "outputs": [],
   "source": [
    "from nltk.util import ngrams\n",
    "from collections import Counter"
   ]
  },
  {
   "cell_type": "code",
   "execution_count": 18,
   "metadata": {},
   "outputs": [],
   "source": [
    "bigrams = list(ngrams(text_normalized, 2))"
   ]
  },
  {
   "cell_type": "code",
   "execution_count": 19,
   "metadata": {},
   "outputs": [
    {
     "data": {
      "text/plain": [
       "[('предисловие', 'циолковский'),\n",
       " ('циолковский', 'к'),\n",
       " ('к', 'второе'),\n",
       " ('второе', 'издание'),\n",
       " ('издание', 'обстоятельный'),\n",
       " ('обстоятельный', 'добросовестный'),\n",
       " ('добросовестный', 'благоприятный'),\n",
       " ('благоприятный', 'отзыв'),\n",
       " ('отзыв', 'роман'),\n",
       " ('роман', 'беляев')]"
      ]
     },
     "execution_count": 19,
     "metadata": {},
     "output_type": "execute_result"
    }
   ],
   "source": [
    "bigrams[:10]"
   ]
  },
  {
   "cell_type": "code",
   "execution_count": 21,
   "metadata": {},
   "outputs": [],
   "source": [
    "count = Counter(bigrams)"
   ]
  },
  {
   "cell_type": "code",
   "execution_count": 25,
   "metadata": {},
   "outputs": [],
   "source": [
    "top100 = sorted(count.items(), key=lambda kv: kv[1], reverse=True)[:100]\n",
    "top100 = [i[0] for i in top100]"
   ]
  },
  {
   "cell_type": "code",
   "execution_count": 26,
   "metadata": {},
   "outputs": [],
   "source": [
    "text_normalized += top100"
   ]
  },
  {
   "cell_type": "markdown",
   "metadata": {},
   "source": [
    "## Topic Modeling"
   ]
  },
  {
   "cell_type": "code",
   "execution_count": 28,
   "metadata": {},
   "outputs": [],
   "source": [
    "def my_lda(texts, num_topics=10, passes=10, eta='auto'):\n",
    "            \n",
    "    dictinary = gensim.corpora.Dictionary(texts)\n",
    "    dictinary.filter_extremes(no_above=0.3)\n",
    "    dictinary.compactify()\n",
    "    \n",
    "    corpus = [dictinary.doc2bow(text) for text in texts]\n",
    " \n",
    "    lda = gensim.models.LdaModel(corpus, id2word=dictinary, \n",
    "                                 passes=passes, num_topics=num_topics,\n",
    "                                 eta=eta, random_state=42)\n",
    "\n",
    "    return lda"
   ]
  },
  {
   "cell_type": "code",
   "execution_count": 74,
   "metadata": {},
   "outputs": [],
   "source": [
    "def words(lda):\n",
    "    d = {}\n",
    "\n",
    "    for index, line in enumerate(lda.print_topics()):\n",
    "        d[index] = re.findall('\"(.*?)\"', line[1])\n",
    "    \n",
    "    return pd.DataFrame(d)"
   ]
  },
  {
   "cell_type": "code",
   "execution_count": 73,
   "metadata": {},
   "outputs": [],
   "source": [
    "lda = my_lda(all_)"
   ]
  },
  {
   "cell_type": "code",
   "execution_count": 76,
   "metadata": {},
   "outputs": [
    {
     "data": {
      "text/html": [
       "<div>\n",
       "<style scoped>\n",
       "    .dataframe tbody tr th:only-of-type {\n",
       "        vertical-align: middle;\n",
       "    }\n",
       "\n",
       "    .dataframe tbody tr th {\n",
       "        vertical-align: top;\n",
       "    }\n",
       "\n",
       "    .dataframe thead th {\n",
       "        text-align: right;\n",
       "    }\n",
       "</style>\n",
       "<table border=\"1\" class=\"dataframe\">\n",
       "  <thead>\n",
       "    <tr style=\"text-align: right;\">\n",
       "      <th></th>\n",
       "      <th>0</th>\n",
       "      <th>1</th>\n",
       "      <th>2</th>\n",
       "      <th>3</th>\n",
       "      <th>4</th>\n",
       "      <th>5</th>\n",
       "      <th>6</th>\n",
       "      <th>7</th>\n",
       "      <th>8</th>\n",
       "      <th>9</th>\n",
       "    </tr>\n",
       "  </thead>\n",
       "  <tbody>\n",
       "    <tr>\n",
       "      <th>0</th>\n",
       "      <td>голова</td>\n",
       "      <td>это</td>\n",
       "      <td>стормера</td>\n",
       "      <td>земля</td>\n",
       "      <td>каждый</td>\n",
       "      <td>цандёр</td>\n",
       "      <td>человек</td>\n",
       "      <td>очень</td>\n",
       "      <td>леди</td>\n",
       "      <td>говорить</td>\n",
       "    </tr>\n",
       "    <tr>\n",
       "      <th>1</th>\n",
       "      <td>нога</td>\n",
       "      <td>ганс</td>\n",
       "      <td>пинч</td>\n",
       "      <td>венера</td>\n",
       "      <td>птица</td>\n",
       "      <td>ответить</td>\n",
       "      <td>конец</td>\n",
       "      <td>словно</td>\n",
       "      <td>хинтон</td>\n",
       "      <td>идти</td>\n",
       "    </tr>\n",
       "    <tr>\n",
       "      <th>2</th>\n",
       "      <td>ракета</td>\n",
       "      <td>винклер</td>\n",
       "      <td>сказать</td>\n",
       "      <td>блоттон</td>\n",
       "      <td>свой</td>\n",
       "      <td>пассажир</td>\n",
       "      <td>наш</td>\n",
       "      <td>рука</td>\n",
       "      <td>ракета</td>\n",
       "      <td>дерево</td>\n",
       "    </tr>\n",
       "    <tr>\n",
       "      <th>3</th>\n",
       "      <td>время</td>\n",
       "      <td>цандёр</td>\n",
       "      <td>спросить</td>\n",
       "      <td>один</td>\n",
       "      <td>епископ</td>\n",
       "      <td>ракета</td>\n",
       "      <td>почему</td>\n",
       "      <td>ганс</td>\n",
       "      <td>самый</td>\n",
       "      <td>сила</td>\n",
       "    </tr>\n",
       "    <tr>\n",
       "      <th>4</th>\n",
       "      <td>ветер</td>\n",
       "      <td>барон</td>\n",
       "      <td>ганс</td>\n",
       "      <td>голос</td>\n",
       "      <td>мэри</td>\n",
       "      <td>ковчег</td>\n",
       "      <td>лицо</td>\n",
       "      <td>текер</td>\n",
       "      <td>земной</td>\n",
       "      <td>ганс</td>\n",
       "    </tr>\n",
       "    <tr>\n",
       "      <th>5</th>\n",
       "      <td>фингер</td>\n",
       "      <td>дело</td>\n",
       "      <td>амели</td>\n",
       "      <td>друг</td>\n",
       "      <td>ганс</td>\n",
       "      <td>каюта</td>\n",
       "      <td>тысяча</td>\n",
       "      <td>лететь</td>\n",
       "      <td>скорость</td>\n",
       "      <td>вода</td>\n",
       "    </tr>\n",
       "    <tr>\n",
       "      <th>6</th>\n",
       "      <td>работать</td>\n",
       "      <td>дверь</td>\n",
       "      <td>винклер</td>\n",
       "      <td>звездолет</td>\n",
       "      <td>блоттон</td>\n",
       "      <td>мы</td>\n",
       "      <td>цандёр</td>\n",
       "      <td>сторона</td>\n",
       "      <td>камень</td>\n",
       "      <td>работа</td>\n",
       "    </tr>\n",
       "    <tr>\n",
       "      <th>7</th>\n",
       "      <td>мочь</td>\n",
       "      <td>видеть</td>\n",
       "      <td>цандёр</td>\n",
       "      <td>найти</td>\n",
       "      <td>скоро</td>\n",
       "      <td>пещера</td>\n",
       "      <td>ганс</td>\n",
       "      <td>воздух</td>\n",
       "      <td>земля</td>\n",
       "      <td>день</td>\n",
       "    </tr>\n",
       "    <tr>\n",
       "      <th>8</th>\n",
       "      <td>ганс</td>\n",
       "      <td>время</td>\n",
       "      <td>начать</td>\n",
       "      <td>такой</td>\n",
       "      <td>движение</td>\n",
       "      <td>должный</td>\n",
       "      <td>сидеть</td>\n",
       "      <td>туман</td>\n",
       "      <td>полёт</td>\n",
       "      <td>шар</td>\n",
       "    </tr>\n",
       "    <tr>\n",
       "      <th>9</th>\n",
       "      <td>животное</td>\n",
       "      <td>какой</td>\n",
       "      <td>свой</td>\n",
       "      <td>марс</td>\n",
       "      <td>сказать</td>\n",
       "      <td>необходимый</td>\n",
       "      <td>скорый</td>\n",
       "      <td>чёрный</td>\n",
       "      <td>пространство</td>\n",
       "      <td>знать</td>\n",
       "    </tr>\n",
       "  </tbody>\n",
       "</table>\n",
       "</div>"
      ],
      "text/plain": [
       "          0        1         2          3         4            5        6  \\\n",
       "0    голова      это  стормера      земля    каждый       цандёр  человек   \n",
       "1      нога     ганс      пинч     венера     птица     ответить    конец   \n",
       "2    ракета  винклер   сказать    блоттон      свой     пассажир      наш   \n",
       "3     время   цандёр  спросить       один   епископ       ракета   почему   \n",
       "4     ветер    барон      ганс      голос      мэри       ковчег     лицо   \n",
       "5    фингер     дело     амели       друг      ганс        каюта   тысяча   \n",
       "6  работать    дверь   винклер  звездолет   блоттон           мы   цандёр   \n",
       "7      мочь   видеть    цандёр      найти     скоро       пещера     ганс   \n",
       "8      ганс    время    начать      такой  движение      должный   сидеть   \n",
       "9  животное    какой      свой       марс   сказать  необходимый   скорый   \n",
       "\n",
       "         7             8         9  \n",
       "0    очень          леди  говорить  \n",
       "1   словно        хинтон      идти  \n",
       "2     рука        ракета    дерево  \n",
       "3     ганс         самый      сила  \n",
       "4    текер        земной      ганс  \n",
       "5   лететь      скорость      вода  \n",
       "6  сторона        камень    работа  \n",
       "7   воздух         земля      день  \n",
       "8    туман         полёт       шар  \n",
       "9   чёрный  пространство     знать  "
      ]
     },
     "execution_count": 76,
     "metadata": {},
     "output_type": "execute_result"
    }
   ],
   "source": [
    "words(lda)"
   ]
  },
  {
   "cell_type": "code",
   "execution_count": null,
   "metadata": {},
   "outputs": [],
   "source": []
  }
 ],
 "metadata": {
  "kernelspec": {
   "display_name": "Python 3",
   "language": "python",
   "name": "python3"
  },
  "language_info": {
   "codemirror_mode": {
    "name": "ipython",
    "version": 3
   },
   "file_extension": ".py",
   "mimetype": "text/x-python",
   "name": "python",
   "nbconvert_exporter": "python",
   "pygments_lexer": "ipython3",
   "version": "3.6.5"
  }
 },
 "nbformat": 4,
 "nbformat_minor": 2
}
